{
 "cells": [
  {
   "cell_type": "code",
   "execution_count": 71,
   "id": "a98ad14d-9f53-48f3-8fd1-0eddd3683d59",
   "metadata": {},
   "outputs": [],
   "source": [
    "import pandas as pd"
   ]
  },
  {
   "cell_type": "code",
   "execution_count": 72,
   "id": "6cf36902-716e-49c7-bb34-55217881a219",
   "metadata": {},
   "outputs": [],
   "source": [
    "df =  pd.read_csv(\"MJX.csv\", na_values= \"M\")\n",
    "pd.set_option('display.max_columns', None)"
   ]
  },
  {
   "cell_type": "code",
   "execution_count": 85,
   "id": "97b6f638-60f8-41f1-883e-006770dd9839",
   "metadata": {},
   "outputs": [
    {
     "data": {
      "text/html": [
       "<div>\n",
       "<style scoped>\n",
       "    .dataframe tbody tr th:only-of-type {\n",
       "        vertical-align: middle;\n",
       "    }\n",
       "\n",
       "    .dataframe tbody tr th {\n",
       "        vertical-align: top;\n",
       "    }\n",
       "\n",
       "    .dataframe thead th {\n",
       "        text-align: right;\n",
       "    }\n",
       "</style>\n",
       "<table border=\"1\" class=\"dataframe\">\n",
       "  <thead>\n",
       "    <tr style=\"text-align: right;\">\n",
       "      <th></th>\n",
       "      <th>Timestamp</th>\n",
       "      <th>tmpf</th>\n",
       "      <th>dwpf</th>\n",
       "      <th>relh</th>\n",
       "      <th>winddrct</th>\n",
       "      <th>windspeed</th>\n",
       "      <th>vsby</th>\n",
       "      <th>gust</th>\n",
       "      <th>ice_accretion_1hr</th>\n",
       "      <th>peak_wind_gust</th>\n",
       "      <th>peak_wind_drct</th>\n",
       "      <th>peak_wind_time</th>\n",
       "    </tr>\n",
       "  </thead>\n",
       "  <tbody>\n",
       "    <tr>\n",
       "      <th>0</th>\n",
       "      <td>2024-01-01 00:56</td>\n",
       "      <td>32.0</td>\n",
       "      <td>29.0</td>\n",
       "      <td>88.53</td>\n",
       "      <td>0.0</td>\n",
       "      <td>0.0</td>\n",
       "      <td>10.0</td>\n",
       "      <td>NaN</td>\n",
       "      <td>NaN</td>\n",
       "      <td>NaN</td>\n",
       "      <td>NaN</td>\n",
       "      <td>NaN</td>\n",
       "    </tr>\n",
       "    <tr>\n",
       "      <th>1</th>\n",
       "      <td>2024-01-01 02:56</td>\n",
       "      <td>32.0</td>\n",
       "      <td>29.0</td>\n",
       "      <td>88.53</td>\n",
       "      <td>0.0</td>\n",
       "      <td>0.0</td>\n",
       "      <td>10.0</td>\n",
       "      <td>NaN</td>\n",
       "      <td>NaN</td>\n",
       "      <td>NaN</td>\n",
       "      <td>NaN</td>\n",
       "      <td>NaN</td>\n",
       "    </tr>\n",
       "  </tbody>\n",
       "</table>\n",
       "</div>"
      ],
      "text/plain": [
       "          Timestamp  tmpf  dwpf   relh  winddrct  windspeed  vsby  gust  \\\n",
       "0  2024-01-01 00:56  32.0  29.0  88.53       0.0        0.0  10.0   NaN   \n",
       "1  2024-01-01 02:56  32.0  29.0  88.53       0.0        0.0  10.0   NaN   \n",
       "\n",
       "   ice_accretion_1hr  peak_wind_gust  peak_wind_drct peak_wind_time  \n",
       "0                NaN             NaN             NaN            NaN  \n",
       "1                NaN             NaN             NaN            NaN  "
      ]
     },
     "execution_count": 85,
     "metadata": {},
     "output_type": "execute_result"
    }
   ],
   "source": [
    "df.head(2)"
   ]
  },
  {
   "cell_type": "code",
   "execution_count": 80,
   "id": "df0b2e3b-1c5d-4650-aea7-2f07243101c2",
   "metadata": {},
   "outputs": [],
   "source": [
    "# deleting unucecery columns "
   ]
  },
  {
   "cell_type": "code",
   "execution_count": 82,
   "id": "561e1692-6584-4d3d-8325-5b2e9832904d",
   "metadata": {},
   "outputs": [],
   "source": [
    "df.drop(columns=['ice_accretion_3hr', 'ice_accretion_6hr', 'feel', 'metar', 'snowdepth', 'p01i', 'alti', 'mslp', 'wxcodes', 'skyc1', 'skyc2', 'skyc3', 'skyc4', 'skyl1', 'skyl2', 'skyl3', 'skyl4', 'station'], errors='ignore', inplace=True)\n",
    "\n"
   ]
  },
  {
   "cell_type": "code",
   "execution_count": 83,
   "id": "81e541ce-dea5-476b-918d-f780bcd31ab7",
   "metadata": {},
   "outputs": [],
   "source": [
    "# rename the columns "
   ]
  },
  {
   "cell_type": "code",
   "execution_count": 84,
   "id": "8ec6c538-120e-4ef4-9972-c40ac434373c",
   "metadata": {},
   "outputs": [],
   "source": [
    "df.rename(columns = { 'valid':'Timestamp','drct': 'winddrct', 'sknt':'windspeed'}, inplace = True)"
   ]
  },
  {
   "cell_type": "code",
   "execution_count": 78,
   "id": "446c70ab-f8d4-45d8-8ed4-674373ee9c61",
   "metadata": {},
   "outputs": [],
   "source": [
    "# checing for missing valuse"
   ]
  },
  {
   "cell_type": "code",
   "execution_count": 86,
   "id": "8020737b-3ef8-4d5f-9d33-115c20204899",
   "metadata": {},
   "outputs": [
    {
     "data": {
      "text/plain": [
       "Timestamp                0\n",
       "tmpf                     5\n",
       "dwpf                     7\n",
       "relh                     7\n",
       "winddrct               282\n",
       "windspeed                8\n",
       "vsby                     1\n",
       "gust                  9568\n",
       "ice_accretion_1hr    11423\n",
       "peak_wind_gust       10971\n",
       "peak_wind_drct       10971\n",
       "peak_wind_time       10971\n",
       "dtype: int64"
      ]
     },
     "execution_count": 86,
     "metadata": {},
     "output_type": "execute_result"
    }
   ],
   "source": [
    "df.isna().sum()"
   ]
  },
  {
   "cell_type": "code",
   "execution_count": 88,
   "id": "e0cee5b2-f0fe-4433-a4dd-010ec9396a42",
   "metadata": {},
   "outputs": [
    {
     "data": {
      "text/plain": [
       "(11423, 12)"
      ]
     },
     "execution_count": 88,
     "metadata": {},
     "output_type": "execute_result"
    }
   ],
   "source": [
    "df.shape"
   ]
  },
  {
   "cell_type": "code",
   "execution_count": null,
   "id": "a3cbb673-27e3-426a-b6b6-1aa760bce9df",
   "metadata": {},
   "outputs": [],
   "source": []
  }
 ],
 "metadata": {
  "kernelspec": {
   "display_name": "Python 3 (ipykernel)",
   "language": "python",
   "name": "python3"
  },
  "language_info": {
   "codemirror_mode": {
    "name": "ipython",
    "version": 3
   },
   "file_extension": ".py",
   "mimetype": "text/x-python",
   "name": "python",
   "nbconvert_exporter": "python",
   "pygments_lexer": "ipython3",
   "version": "3.12.9"
  }
 },
 "nbformat": 4,
 "nbformat_minor": 5
}
