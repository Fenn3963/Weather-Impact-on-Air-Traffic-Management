{
 "cells": [
  {
   "cell_type": "markdown",
   "metadata": {},
   "source": [
    "<h1 style=\"color:blue;\">Group 4 Final Project</h1>\n"
   ]
  },
  {
   "cell_type": "markdown",
   "metadata": {},
   "source": [
    "https://mesonet.agron.iastate.edu/request/download.phtml?network=NJ_ASOS"
   ]
  },
  {
   "cell_type": "markdown",
   "metadata": {},
   "source": [
    "<font size=\"5\">Members:</font> <br> Birendra Khimding <br> Muzhgan Rustaqi <br> Andrew Fennimore"
   ]
  },
  {
   "cell_type": "code",
   "execution_count": 63,
   "metadata": {},
   "outputs": [],
   "source": [
    "import pandas as pd\n",
    "import numpy as np\n",
    "\n",
    "\n",
    "# Read Data from the MJX\n",
    "url = \"https://raw.githubusercontent.com/Fenn3963/Weather-Impact-on-Air-Traffic-Management/refs/heads/main/MJX.csv\"\n",
    "\n",
    "#All values with na are labeled as M\n",
    "weather = pd.read_csv(\"MJX.csv\" , na_values= \"M\")\n"
   ]
  },
  {
   "cell_type": "code",
   "execution_count": 112,
   "metadata": {},
   "outputs": [
    {
     "name": "stdout",
     "output_type": "stream",
     "text": [
      "                            OLS Regression Results                            \n",
      "==============================================================================\n",
      "Dep. Variable:                   vsby   R-squared:                       0.250\n",
      "Model:                            OLS   Adj. R-squared:                  0.249\n",
      "Method:                 Least Squares   F-statistic:                     291.9\n",
      "Date:                Sat, 22 Feb 2025   Prob (F-statistic):               0.00\n",
      "Time:                        19:17:18   Log-Likelihood:                -25452.\n",
      "No. Observations:               11423   AIC:                         5.093e+04\n",
      "Df Residuals:                   11409   BIC:                         5.103e+04\n",
      "Df Model:                          13                                         \n",
      "Covariance Type:            nonrobust                                         \n",
      "==================================================================================\n",
      "                     coef    std err          t      P>|t|      [0.025      0.975]\n",
      "----------------------------------------------------------------------------------\n",
      "Intercept        -28.0319      3.732     -7.511      0.000     -35.348     -20.716\n",
      "tmpf              -0.0504      0.011     -4.780      0.000      -0.071      -0.030\n",
      "relh              -0.0350      0.001    -25.991      0.000      -0.038      -0.032\n",
      "drct               0.0020      0.000      9.160      0.000       0.002       0.002\n",
      "sknt              -0.0019      0.007     -0.274      0.784      -0.015       0.011\n",
      "alti               0.6815      0.200      3.403      0.001       0.289       1.074\n",
      "mslp               0.0151      0.006      2.325      0.020       0.002       0.028\n",
      "gust               0.0052      0.013      0.411      0.681      -0.020       0.030\n",
      "skyl1              0.0003   1.06e-05     28.349      0.000       0.000       0.000\n",
      "skyl2           3.188e-05   1.79e-05      1.777      0.076   -3.28e-06     6.7e-05\n",
      "skyl3              0.0001   3.06e-05      4.785      0.000    8.64e-05       0.000\n",
      "peak_wind_gust     0.0418      0.032      1.290      0.197      -0.022       0.105\n",
      "peak_wind_drct     0.0014      0.002      0.685      0.494      -0.003       0.005\n",
      "feel               0.0494      0.009      5.435      0.000       0.032       0.067\n",
      "==============================================================================\n",
      "Omnibus:                     3101.400   Durbin-Watson:                   0.341\n",
      "Prob(Omnibus):                  0.000   Jarque-Bera (JB):             7030.909\n",
      "Skew:                          -1.556   Prob(JB):                         0.00\n",
      "Kurtosis:                       5.254   Cond. No.                     1.44e+06\n",
      "==============================================================================\n",
      "\n",
      "Notes:\n",
      "[1] Standard Errors assume that the covariance matrix of the errors is correctly specified.\n",
      "[2] The condition number is large, 1.44e+06. This might indicate that there are\n",
      "strong multicollinearity or other numerical problems.\n"
     ]
    },
    {
     "name": "stderr",
     "output_type": "stream",
     "text": [
      "C:\\Users\\fenn3\\AppData\\Local\\Temp\\ipykernel_2988\\2810977799.py:17: FutureWarning: A value is trying to be set on a copy of a DataFrame or Series through chained assignment using an inplace method.\n",
      "The behavior will change in pandas 3.0. This inplace method will never work because the intermediate object on which we are setting values always behaves as a copy.\n",
      "\n",
      "For example, when doing 'df[col].method(value, inplace=True)', try using 'df.method({col: value}, inplace=True)' or df[col] = df[col].method(value) instead, to perform the operation inplace on the original object.\n",
      "\n",
      "\n",
      "  weather[variable].fillna(weather[variable].mean(), inplace=True)\n"
     ]
    }
   ],
   "source": [
    "import pandas as pd\n",
    "import numpy as np\n",
    "import statsmodels.formula.api as smf\n",
    "\n",
    "# Read Data from the MJX\n",
    "url = \"https://raw.githubusercontent.com/Fenn3963/Weather-Impact-on-Air-Traffic-Management/main/MJX.csv\"\n",
    "\n",
    "# All values with na are labeled as M\n",
    "weather = pd.read_csv(url, na_values=\"M\")\n",
    "\n",
    "# List of variables to fill missing values with their mean\n",
    "variables_to_fill = [\"vsby\", \"tmpf\", \"relh\", \"drct\", \"sknt\", \"alti\", \"mslp\", \"gust\", \n",
    "                     \"skyl1\", \"skyl2\", \"skyl3\", \"peak_wind_gust\", \"peak_wind_drct\", \"feel\"]\n",
    "\n",
    "# Fill missing values with the mean for specified variables\n",
    "for variable in variables_to_fill:\n",
    "    weather[variable].fillna(weather[variable].mean(), inplace=True)\n",
    "\n",
    "# Model 1: Predict visibility using various weather variables\n",
    "model = smf.ols(formula=\"vsby ~ tmpf + relh + drct + sknt + alti + mslp + gust + \\\n",
    "                        skyl1 + skyl2 + skyl3 + \\\n",
    "                        peak_wind_gust + \\\n",
    "                        peak_wind_drct + feel\", \n",
    "                data=weather).fit()\n",
    "\n",
    "# Print summary of the model\n",
    "print(model.summary())\n"
   ]
  },
  {
   "cell_type": "code",
   "execution_count": 118,
   "metadata": {},
   "outputs": [
    {
     "name": "stdout",
     "output_type": "stream",
     "text": [
      "                            OLS Regression Results                            \n",
      "==============================================================================\n",
      "Dep. Variable:                   vsby   R-squared:                       0.251\n",
      "Model:                            OLS   Adj. R-squared:                  0.250\n",
      "Method:                 Least Squares   F-statistic:                     420.3\n",
      "Date:                Sat, 22 Feb 2025   Prob (F-statistic):               0.00\n",
      "Time:                        19:20:42   Log-Likelihood:                -25226.\n",
      "No. Observations:               11312   AIC:                         5.047e+04\n",
      "Df Residuals:                   11302   BIC:                         5.054e+04\n",
      "Df Model:                           9                                         \n",
      "Covariance Type:            nonrobust                                         \n",
      "===============================================================================\n",
      "                  coef    std err          t      P>|t|      [0.025      0.975]\n",
      "-------------------------------------------------------------------------------\n",
      "Intercept     -26.5248      3.431     -7.732      0.000     -33.249     -19.800\n",
      "tmpf           -0.0503      0.010     -5.105      0.000      -0.070      -0.031\n",
      "relh           -0.0349      0.001    -27.792      0.000      -0.037      -0.032\n",
      "drct            0.0020      0.000      9.389      0.000       0.002       0.002\n",
      "alti            0.6543      0.197      3.322      0.001       0.268       1.040\n",
      "skyl1           0.0007   8.51e-05      8.166      0.000       0.001       0.001\n",
      "skyl3           0.0003    4.4e-05      7.110      0.000       0.000       0.000\n",
      "skyl1:skyl3 -6.765e-08   1.46e-08     -4.619      0.000   -9.64e-08   -3.89e-08\n",
      "feel            0.0496      0.009      5.826      0.000       0.033       0.066\n",
      "mslp            0.0152      0.006      2.351      0.019       0.003       0.028\n",
      "==============================================================================\n",
      "Omnibus:                     3024.394   Durbin-Watson:                   0.344\n",
      "Prob(Omnibus):                  0.000   Jarque-Bera (JB):             6738.113\n",
      "Skew:                          -1.543   Prob(JB):                         0.00\n",
      "Kurtosis:                       5.185   Cond. No.                     3.57e+09\n",
      "==============================================================================\n",
      "\n",
      "Notes:\n",
      "[1] Standard Errors assume that the covariance matrix of the errors is correctly specified.\n",
      "[2] The condition number is large, 3.57e+09. This might indicate that there are\n",
      "strong multicollinearity or other numerical problems.\n"
     ]
    },
    {
     "name": "stderr",
     "output_type": "stream",
     "text": [
      "C:\\Users\\fenn3\\AppData\\Local\\Temp\\ipykernel_2988\\3462418268.py:16: FutureWarning: A value is trying to be set on a copy of a DataFrame or Series through chained assignment using an inplace method.\n",
      "The behavior will change in pandas 3.0. This inplace method will never work because the intermediate object on which we are setting values always behaves as a copy.\n",
      "\n",
      "For example, when doing 'df[col].method(value, inplace=True)', try using 'df.method({col: value}, inplace=True)' or df[col] = df[col].method(value) instead, to perform the operation inplace on the original object.\n",
      "\n",
      "\n",
      "  weather[variable].fillna(weather[variable].mean(), inplace=True)\n"
     ]
    }
   ],
   "source": [
    "import pandas as pd\n",
    "import numpy as np\n",
    "import statsmodels.formula.api as smf\n",
    "\n",
    "# Read Data from the MJX\n",
    "url = \"https://raw.githubusercontent.com/Fenn3963/Weather-Impact-on-Air-Traffic-Management/main/MJX.csv\"\n",
    "\n",
    "# All values with na are labeled as M\n",
    "weather = pd.read_csv(url, na_values=\"M\")\n",
    "\n",
    "# List of significant variables to fill missing values with their mean\n",
    "significant_variables = [\"vsby\", \"tmpf\", \"dwpf\", \"relh\", \"drct\", \"skyl1\", \"skyl3\", \"feel\", \"mslp\"]\n",
    "\n",
    "# Fill missing values with the mean for specified significant variables\n",
    "for variable in significant_variables:\n",
    "    weather[variable].fillna(weather[variable].mean(), inplace=True)\n",
    "\n",
    "# Create a new model using only significant variables\n",
    "model_sig = smf.ols(formula=\"vsby ~ tmpf + relh + drct + alti + skyl1 + skyl3 + feel + mslp\", \n",
    "                    data=weather).fit()\n",
    "\n",
    "# Print summary of the new model\n",
    "print(model_sig.summary())\n"
   ]
  },
  {
   "cell_type": "code",
   "execution_count": null,
   "metadata": {},
   "outputs": [],
   "source": []
  },
  {
   "cell_type": "code",
   "execution_count": 65,
   "metadata": {},
   "outputs": [
    {
     "name": "stdout",
     "output_type": "stream",
     "text": [
      "                  Generalized Linear Model Regression Results                  \n",
      "===============================================================================\n",
      "Dep. Variable:     np.log(11.0 - vsby)   No. Observations:                11423\n",
      "Model:                             GLM   Df Residuals:                    11407\n",
      "Model Family:                 Gaussian   Df Model:                           15\n",
      "Link Function:                Identity   Scale:                         0.35815\n",
      "Method:                           IRLS   Log-Likelihood:                -10336.\n",
      "Date:                 Sat, 22 Feb 2025   Deviance:                       4085.4\n",
      "Time:                         18:53:59   Pearson chi2:                 4.09e+03\n",
      "No. Iterations:                      3   Pseudo R-squ. (CS):             0.4124\n",
      "Covariance Type:             nonrobust                                         \n",
      "=====================================================================================\n",
      "                        coef    std err          z      P>|z|      [0.025      0.975]\n",
      "-------------------------------------------------------------------------------------\n",
      "Intercept             3.0874      1.026      3.008      0.003       1.076       5.099\n",
      "tmpf                  0.1345      0.005     29.013      0.000       0.125       0.144\n",
      "dwpf                 -0.1236      0.004    -32.007      0.000      -0.131      -0.116\n",
      "relh                  0.0626      0.002     37.990      0.000       0.059       0.066\n",
      "drct                 -0.0005   5.88e-05     -8.208      0.000      -0.001      -0.000\n",
      "sknt                  0.0066      0.002      3.699      0.000       0.003       0.010\n",
      "alti                 -0.1134      0.054     -2.111      0.035      -0.219      -0.008\n",
      "mslp                 -0.0036      0.002     -2.082      0.037      -0.007      -0.000\n",
      "gust                 -0.0012      0.003     -0.343      0.732      -0.008       0.005\n",
      "skyl1                -0.0003   8.62e-05     -3.398      0.001      -0.000      -0.000\n",
      "skyl2             -2.586e-07   3.08e-05     -0.008      0.993   -6.06e-05    6.01e-05\n",
      "skyl1:skyl2        1.552e-08   1.05e-08      1.484      0.138   -4.97e-09     3.6e-08\n",
      "skyl3             -5.613e-05   2.23e-05     -2.522      0.012   -9.98e-05   -1.25e-05\n",
      "skyl1:skyl3        2.938e-08   1.51e-08      1.952      0.051   -1.22e-10    5.89e-08\n",
      "skyl2:skyl3       -7.918e-09   5.23e-09     -1.514      0.130   -1.82e-08    2.33e-09\n",
      "skyl1:skyl2:skyl3 -8.369e-13    1.8e-12     -0.465      0.642   -4.37e-12    2.69e-12\n",
      "peak_wind_gust       -0.0146      0.009     -1.692      0.091      -0.031       0.002\n",
      "feel                 -0.0160      0.002     -6.651      0.000      -0.021      -0.011\n",
      "=====================================================================================\n"
     ]
    }
   ],
   "source": [
    "\n",
    "# Define a constant K greater than the maximum value of vsby\n",
    "K = weather['vsby'].max() + 1\n",
    "\n",
    "# Apply the reverse log transformation and create the GLM model\n",
    "modelglm_neg = smf.glm(formula=f\"np.log({K} - vsby) ~ tmpf + dwpf + relh + drct + sknt + alti + mslp + gust + \\\n",
    "                        (skyl1 * skyl2 * skyl3) + \\\n",
    "                        peak_wind_gust + \\\n",
    "                        feel\", \n",
    "                data=weather).fit()\n",
    "\n",
    "print(modelglm_neg.summary())\n"
   ]
  },
  {
   "cell_type": "code",
   "execution_count": 90,
   "metadata": {},
   "outputs": [
    {
     "name": "stdout",
     "output_type": "stream",
     "text": [
      "                            OLS Regression Results                            \n",
      "==============================================================================\n",
      "Dep. Variable:                   vsby   R-squared:                       0.303\n",
      "Model:                            OLS   Adj. R-squared:                  0.303\n",
      "Method:                 Least Squares   F-statistic:                     621.6\n",
      "Date:                Sat, 22 Feb 2025   Prob (F-statistic):               0.00\n",
      "Time:                        19:07:33   Log-Likelihood:                -25026.\n",
      "No. Observations:               11423   AIC:                         5.007e+04\n",
      "Df Residuals:                   11414   BIC:                         5.014e+04\n",
      "Df Model:                           8                                         \n",
      "Covariance Type:            nonrobust                                         \n",
      "==============================================================================\n",
      "                 coef    std err          t      P>|t|      [0.025      0.975]\n",
      "------------------------------------------------------------------------------\n",
      "Intercept      1.1179      3.401      0.329      0.742      -5.548       7.784\n",
      "tmpf          -0.4578      0.016    -27.866      0.000      -0.490      -0.426\n",
      "dwpf           0.4183      0.014     30.062      0.000       0.391       0.446\n",
      "relh          -0.2089      0.006    -35.526      0.000      -0.220      -0.197\n",
      "drct           0.0015      0.000      7.579      0.000       0.001       0.002\n",
      "skyl1          0.0003   9.89e-06     26.320      0.000       0.000       0.000\n",
      "skyl3          0.0001   2.83e-05      4.774      0.000    7.96e-05       0.000\n",
      "feel           0.0566      0.008      6.979      0.000       0.041       0.073\n",
      "mslp           0.0242      0.003      7.593      0.000       0.018       0.030\n",
      "==============================================================================\n",
      "Omnibus:                     2652.491   Durbin-Watson:                   0.368\n",
      "Prob(Omnibus):                  0.000   Jarque-Bera (JB):             5652.513\n",
      "Skew:                          -1.355   Prob(JB):                         0.00\n",
      "Kurtosis:                       5.130   Cond. No.                     1.12e+06\n",
      "==============================================================================\n",
      "\n",
      "Notes:\n",
      "[1] Standard Errors assume that the covariance matrix of the errors is correctly specified.\n",
      "[2] The condition number is large, 1.12e+06. This might indicate that there are\n",
      "strong multicollinearity or other numerical problems.\n"
     ]
    },
    {
     "name": "stderr",
     "output_type": "stream",
     "text": [
      "C:\\Users\\fenn3\\AppData\\Local\\Temp\\ipykernel_2988\\864213903.py:16: FutureWarning: A value is trying to be set on a copy of a DataFrame or Series through chained assignment using an inplace method.\n",
      "The behavior will change in pandas 3.0. This inplace method will never work because the intermediate object on which we are setting values always behaves as a copy.\n",
      "\n",
      "For example, when doing 'df[col].method(value, inplace=True)', try using 'df.method({col: value}, inplace=True)' or df[col] = df[col].method(value) instead, to perform the operation inplace on the original object.\n",
      "\n",
      "\n",
      "  weather[variable].fillna(weather[variable].mean(), inplace=True)\n"
     ]
    }
   ],
   "source": [
    "import pandas as pd\n",
    "import numpy as np\n",
    "import statsmodels.formula.api as smf\n",
    "\n",
    "# Read Data from the MJX\n",
    "url = \"https://raw.githubusercontent.com/Fenn3963/Weather-Impact-on-Air-Traffic-Management/main/MJX.csv\"\n",
    "\n",
    "# All values with na are labeled as M\n",
    "weather = pd.read_csv(url, na_values=\"M\")\n",
    "\n",
    "# List of significant variables to fill missing values with their mean\n",
    "significant_variables = [\"vsby\", \"tmpf\", \"dwpf\", \"relh\", \"drct\", \"skyl1\", \"skyl3\", \"feel\", \"mslp\"]\n",
    "\n",
    "# Fill missing values with the mean for specified significant variables\n",
    "for variable in significant_variables:\n",
    "    weather[variable].fillna(weather[variable].mean(), inplace=True)\n",
    "\n",
    "# Create a new model using only significant variables\n",
    "model_sig = smf.ols(formula=\"vsby ~ tmpf + relh + drct + skyl1 + skyl3 + feel + mslp\", \n",
    "                    data=weather).fit()\n",
    "\n",
    "# Print summary of the new model\n",
    "print(model_sig.summary())\n"
   ]
  },
  {
   "cell_type": "code",
   "execution_count": 120,
   "metadata": {},
   "outputs": [
    {
     "name": "stdout",
     "output_type": "stream",
     "text": [
      "                 Generalized Linear Model Regression Results                  \n",
      "==============================================================================\n",
      "Dep. Variable:                   vsby   No. Observations:                11423\n",
      "Model:                            GLM   Df Residuals:                    11415\n",
      "Model Family:                   Gamma   Df Model:                            7\n",
      "Link Function:                    log   Scale:                        0.091943\n",
      "Method:                          IRLS   Log-Likelihood:                -33011.\n",
      "Date:                Sat, 22 Feb 2025   Deviance:                       2271.1\n",
      "Time:                        19:24:05   Pearson chi2:                 1.05e+03\n",
      "No. Iterations:                    18   Pseudo R-squ. (CS):             0.2291\n",
      "Covariance Type:            nonrobust                                         \n",
      "==============================================================================\n",
      "                 coef    std err          z      P>|z|      [0.025      0.975]\n",
      "------------------------------------------------------------------------------\n",
      "Intercept     -2.0682      0.460     -4.492      0.000      -2.971      -1.166\n",
      "tmpf          -0.0071      0.001     -5.418      0.000      -0.010      -0.005\n",
      "relh          -0.0043      0.000    -26.198      0.000      -0.005      -0.004\n",
      "drct           0.0003    2.8e-05      9.298      0.000       0.000       0.000\n",
      "skyl1        4.13e-05   1.37e-06     30.184      0.000    3.86e-05     4.4e-05\n",
      "skyl3       2.125e-05   3.96e-06      5.368      0.000    1.35e-05     2.9e-05\n",
      "feel           0.0070      0.001      6.146      0.000       0.005       0.009\n",
      "mslp           0.0042      0.000      9.537      0.000       0.003       0.005\n",
      "==============================================================================\n"
     ]
    },
    {
     "name": "stderr",
     "output_type": "stream",
     "text": [
      "C:\\Users\\fenn3\\AppData\\Local\\Temp\\ipykernel_2988\\2739636273.py:17: FutureWarning: A value is trying to be set on a copy of a DataFrame or Series through chained assignment using an inplace method.\n",
      "The behavior will change in pandas 3.0. This inplace method will never work because the intermediate object on which we are setting values always behaves as a copy.\n",
      "\n",
      "For example, when doing 'df[col].method(value, inplace=True)', try using 'df.method({col: value}, inplace=True)' or df[col] = df[col].method(value) instead, to perform the operation inplace on the original object.\n",
      "\n",
      "\n",
      "  weather[variable].fillna(weather[variable].mean(), inplace=True)\n",
      "C:\\Users\\fenn3\\anaconda3\\Lib\\site-packages\\statsmodels\\genmod\\families\\links.py:13: FutureWarning: The log link alias is deprecated. Use Log instead. The log link alias will be removed after the 0.15.0 release.\n",
      "  warnings.warn(\n"
     ]
    }
   ],
   "source": [
    "import pandas as pd\n",
    "import numpy as np\n",
    "import statsmodels.formula.api as smf\n",
    "import statsmodels.api as sm\n",
    "\n",
    "# Read Data from the MJX\n",
    "url = \"https://raw.githubusercontent.com/Fenn3963/Weather-Impact-on-Air-Traffic-Management/main/MJX.csv\"\n",
    "\n",
    "# All values with na are labeled as M\n",
    "weather = pd.read_csv(url, na_values=\"M\")\n",
    "\n",
    "# List of significant variables to fill missing values with their mean\n",
    "significant_variables = [\"vsby\", \"tmpf\", \"dwpf\", \"relh\", \"drct\", \"skyl1\", \"skyl3\", \"feel\", \"mslp\"]\n",
    "\n",
    "# Fill missing values with the mean for specified significant variables\n",
    "for variable in significant_variables:\n",
    "    weather[variable].fillna(weather[variable].mean(), inplace=True)\n",
    "\n",
    "# Fit the GLM model with Gamma family and log link\n",
    "model_gamma = smf.glm(formula=\"vsby ~ tmpf + relh + drct + skyl1 + skyl3 + feel + mslp\", \n",
    "                      data=weather,\n",
    "                      family=sm.families.Gamma(link=sm.families.links.log())).fit()\n",
    "\n",
    "# Print summary of the GLM model\n",
    "print(model_gamma.summary())\n"
   ]
  },
  {
   "cell_type": "code",
   "execution_count": null,
   "metadata": {},
   "outputs": [],
   "source": []
  },
  {
   "cell_type": "code",
   "execution_count": null,
   "metadata": {},
   "outputs": [],
   "source": []
  }
 ],
 "metadata": {
  "kernelspec": {
   "display_name": "Python [conda env:base] *",
   "language": "python",
   "name": "conda-base-py"
  },
  "language_info": {
   "codemirror_mode": {
    "name": "ipython",
    "version": 3
   },
   "file_extension": ".py",
   "mimetype": "text/x-python",
   "name": "python",
   "nbconvert_exporter": "python",
   "pygments_lexer": "ipython3",
   "version": "3.12.7"
  }
 },
 "nbformat": 4,
 "nbformat_minor": 4
}
