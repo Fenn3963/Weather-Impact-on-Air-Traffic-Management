{
 "cells": [
  {
   "cell_type": "markdown",
   "id": "1311c462-1023-4e34-8a7d-a7a47c7be27d",
   "metadata": {},
   "source": [
    "Group 4 finale Project"
   ]
  },
  {
   "cell_type": "code",
   "execution_count": null,
   "id": "d9d280d6-f5ed-47b3-b718-1bed481f033f",
   "metadata": {},
   "outputs": [],
   "source": []
  },
  {
   "cell_type": "code",
   "execution_count": 5,
   "id": "0874cc06-32b4-432c-b48d-0ebc24a82d61",
   "metadata": {},
   "outputs": [
    {
     "name": "stdout",
     "output_type": "stream",
     "text": [
      "{'Mean': 53.090459961450854, 'Median': 54.0, 'Std': 21.326365495117233}\n"
     ]
    }
   ],
   "source": [
    "import  pandas as pd\n",
    "\n",
    "file_path = \"MJX.csv\" #this might need to be changed depending on what it is named\n",
    "df = pd.read_csv(file_path)\n",
    "\n",
    "\n",
    "# Replace M with Na for clarity and ease of use\n",
    "df_cleaned= df.replace(\"M\", pd.NA)\n",
    "\n",
    "\n",
    "#all the columns we can analyze\n",
    "columns = [\"station\", \"valid\", \"tmpf\", \"dwpf\", \"relh\", \"drct\", \"sknt\", \"p01i\", \"alti\", \"mslp\", \"vsby\", \"gust\", \"skyc1\",\n",
    "\"skyc2\", \"skyc3\", \"skyc4\", \"skyl1\", \"skyl2\", \"skyl3\", \"skyl4\", \"wxcodes\", \"ice_accretion_1hr\", \"ice_accretion_3hr\", \n",
    "\"ice_accretion_6hr\", \"peak_wind_gust\", \"peak_wind_drct\", \"peak_wind_time\", \"feel\", \"metar\", \"snowdepth\"]\n",
    "\n",
    "####################################################################################################################\n",
    "#create list from the column names\n",
    "\"\"\"\n",
    "Turns names in a list variable\n",
    "example print(skyl2) will print all variables in that row as list. \n",
    "\"\"\"\n",
    "\n",
    "variables = {}\n",
    "for col in df_cleaned.columns:\n",
    "    variables[col] = df_cleaned[col].tolist()\n",
    "\n",
    "\n",
    "####################################################################################################################\n",
    "#I have to fix this but it should only find descriptive for numeric values\n",
    "numeric_data = df_cleaned.apply(pd.to_numeric, errors='coerce')\n",
    "\n",
    "# descriptive stats dictionary\n",
    "stats_dict = {}\n",
    "\n",
    "# dictionary mean, median, and std\n",
    "for col in columns:\n",
    "    if col in numeric_data.columns:\n",
    "        mean = numeric_data[col].mean()\n",
    "        median = numeric_data[col].median()\n",
    "        std = numeric_data[col].std()\n",
    "        stats_dict[col] = {\n",
    "            \"Mean\": mean,\n",
    "            \"Median\": median,\n",
    "            \"Std\": std\n",
    "        }\n",
    "\n",
    "# example\n",
    "print(stats_dict.get(\"feel\"))"
   ]
  },
  {
   "cell_type": "code",
   "execution_count": null,
   "id": "f7b481cf-34a6-4361-ab32-9a4d9ca1f9b2",
   "metadata": {},
   "outputs": [],
   "source": []
  },
  {
   "cell_type": "code",
   "execution_count": null,
   "id": "764fa40b-672a-42e8-909b-4136c86248dd",
   "metadata": {},
   "outputs": [],
   "source": []
  }
 ],
 "metadata": {
  "kernelspec": {
   "display_name": "Python [conda env:base] *",
   "language": "python",
   "name": "conda-base-py"
  },
  "language_info": {
   "codemirror_mode": {
    "name": "ipython",
    "version": 3
   },
   "file_extension": ".py",
   "mimetype": "text/x-python",
   "name": "python",
   "nbconvert_exporter": "python",
   "pygments_lexer": "ipython3",
   "version": "3.12.7"
  }
 },
 "nbformat": 4,
 "nbformat_minor": 5
}
